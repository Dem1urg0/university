{
 "cells": [
  {
   "cell_type": "code",
   "execution_count": null,
   "metadata": {},
   "outputs": [],
   "source": [
    "import telebot\n",
    "import sqlite3\n",
    "\n",
    "bot = telebot.TeleBot('2394805730:DSDHhbSDS876DCSUbjkhbSDX345')\n",
    "\n",
    "conn = sqlite3.connect('C:\\\\Users\\karma\\I1K.db')\n",
    "cur = conn.cursor()\n",
    "\n",
    "def getClones():\n",
    "    # запрос в БД\n",
    "    conn = sqlite3.connect('D:\\\\cats.db')\n",
    "    cur = conn.cursor()\n",
    "    cur.execute(\"SELECT I1K.name, I1K.age, I1K.color, addresses.address FROM I1K INNER JOIN addresses ON I1K.id_address == addresses.id;\")\n",
    "    clones = cur.fetchall()\n",
    "    return clones\n",
    "\n",
    "def createMyList(keyword, clones):\n",
    "    s = \"\"\n",
    "    for clone in clones:\n",
    "        if (keyword == '') or (keyword in cat[0]):\n",
    "            s += \"Имя: \" + clone[0] + \"\\nВозраст: \" + clone[1] + \"\\nЦвет:\" + clone[2] + \"\\nАдрес: \" + clone[3] + \"\\n\\n\";\n",
    "    return s\n",
    "\n",
    "def isClone1Request(request):\n",
    "    CloneWords = {'клонвано', 'клонван', 'клонвано'}\n",
    "    if(request.lower() in CloneWords):\n",
    "        return True\n",
    "    return False\n",
    "\n",
    "def isClone2Request(request):\n",
    "    CloneWords = {'клонказма', 'клонказмич', 'клонкузя', 'клонказменыч'}\n",
    "    if(request.lower() in CloneWords):\n",
    "        return True\n",
    "    return False\n",
    "\n",
    "@bot.message_handler(content_types=['text'])\n",
    "def get_text_messages(message):\n",
    "    print(message.text)\n",
    "    if isClone1Request(message.text):\n",
    "        clones = getClones() \n",
    "        bot.send_message(message.from_user.id, createMyList('клонвано', clones))\n",
    "    elif message.text.lower() == 'клоны':\n",
    "        clones = getClones()     \n",
    "        bot.send_message(message.from_user.id, createMyList('', clones))\n",
    "    elif isClone2Request(message.text):\n",
    "        clones = getClones()     \n",
    "        bot.send_message(message.from_user.id, createMyList('клонказма', clones))\n",
    "    elif message.text.lower() == 'клонказма':\n",
    "        clones = getClones()     \n",
    "        bot.send_message(message.from_user.id, createMyList('', clones))\n",
    "        \n",
    "    else:\n",
    "        bot.send_message(message.from_user.id, 'Не понимаю, что это значит.')\n",
    "\n",
    "bot.polling(none_stop=True)"
   ]
  }
 ],
 "metadata": {
  "kernelspec": {
   "display_name": "Python 3",
   "language": "python",
   "name": "python3"
  },
  "language_info": {
   "codemirror_mode": {
    "name": "ipython",
    "version": 3
   },
   "file_extension": ".py",
   "mimetype": "text/x-python",
   "name": "python",
   "nbconvert_exporter": "python",
   "pygments_lexer": "ipython3",
   "version": "3.6.5"
  }
 },
 "nbformat": 4,
 "nbformat_minor": 2
}
