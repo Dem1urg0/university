{
 "cells": [
  {
   "cell_type": "code",
   "execution_count": null,
   "metadata": {},
   "outputs": [],
   "source": [
    "import numpy as np \n",
    "import cv2\n",
    "\n",
    "img_counter = 0\n",
    "\n",
    "cap = cv2.VideoCapture(img_counter)\n",
    "\n",
    "while(True):\n",
    "    ret, frame = cap.read()\n",
    "    \n",
    "    if not ret:\n",
    "        print(\"Повторите захват кадра\")\n",
    "        break\n",
    "\n",
    "    xmin = 640\n",
    "    xmax = 0\n",
    "    ymin = 480\n",
    "    ymax = 0\n",
    "    \n",
    "    for i in range(0,frame.shape[0]-1):\n",
    "        for j in range(0,frame.shape[1]-1):\n",
    "            b, g, r = frame[i][j]\n",
    "            if r>190 and b < 180 and g < 180:\n",
    "                frame[i][j] = (0, 0, 255)\n",
    "                \n",
    "                if ymin > i:\n",
    "                    ymin = i\n",
    "                if ymax < i:\n",
    "                    ymax = i\n",
    "                if xmin > j:\n",
    "                    xmin = j\n",
    "                if xmax < j:\n",
    "                    xmax = j\n",
    "    angle = 0\n",
    "                    \n",
    "                    \n",
    "    frame = cv2.rectangle(frame, (xmin,ymin), (xmax,ymax), (0,0,0), 2)\n",
    "   \n",
    "    #Центр объекта\n",
    "    xcenter = (xmax + xmin) // 2\n",
    "    ycenter = (ymax + ymin) // 2\n",
    "     \n",
    "    cv2.imshow('frame', frame)\n",
    "\n",
    "    k = cv2.waitKey(1)\n",
    "    if k%256 == 27:\n",
    "        print(\"CLOSING.\")\n",
    "        break\n",
    "    elif k%256 == 32:\n",
    "        print(xcenter,ycenter)\n",
    "        img_name = \"opencv_frame_{}.png\".format(img_counter)\n",
    "        cv2.imwrite(img_name, frame)\n",
    "        print(\"{} Made\".format(img_name))\n",
    "        img_counter += 1\n",
    "\n",
    "cap.release()\n",
    "cv2.destroyAllWindows()"
   ]
  },
  {
   "cell_type": "code",
   "execution_count": null,
   "metadata": {},
   "outputs": [],
   "source": []
  }
 ],
 "metadata": {
  "kernelspec": {
   "display_name": "Python 3",
   "language": "python",
   "name": "python3"
  },
  "language_info": {
   "codemirror_mode": {
    "name": "ipython",
    "version": 3
   },
   "file_extension": ".py",
   "mimetype": "text/x-python",
   "name": "python",
   "nbconvert_exporter": "python",
   "pygments_lexer": "ipython3",
   "version": "3.6.5"
  }
 },
 "nbformat": 4,
 "nbformat_minor": 2
}
