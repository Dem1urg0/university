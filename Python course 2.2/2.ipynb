{
 "cells": [
  {
   "cell_type": "markdown",
   "metadata": {},
   "source": [
    "# Проверка на русские буквы"
   ]
  },
  {
   "cell_type": "code",
   "execution_count": 15,
   "metadata": {
    "scrolled": true
   },
   "outputs": [
    {
     "name": "stdout",
     "output_type": "stream",
     "text": [
      "П\n",
      "р\n",
      "и\n",
      "в\n",
      "е\n",
      "т\n",
      "я\n",
      "и\n",
      "з\n",
      "К\n",
      "а\n",
      "л\n",
      "и\n",
      "н\n",
      "и\n",
      "н\n",
      "г\n",
      "р\n",
      "а\n",
      "д\n",
      "а\n",
      "м\n",
      "о\n",
      "й\n",
      "2\n",
      "3\n",
      "6\n",
      "2\n",
      "3\n",
      "4\n"
     ]
    }
   ],
   "source": [
    "letterandnumbers = ('а', 'б', 'в', 'г', 'д', 'е', 'ё', 'ж', 'з', 'и', 'й', 'к', 'л', 'м', 'н', \n",
    "                    'о', 'п', 'р', 'с', 'т', 'у', 'ф', 'х', 'ц', 'ч', 'ш', 'щ', 'ъ', 'ы','ь', 'э', 'ю', 'я',\n",
    "                    'А', 'Б', 'В', 'Г', 'Д', 'Е', 'Ё', 'Ж', 'З', 'И', 'Й', 'К', 'Л', 'М', 'Н', \n",
    "                    'О', 'П', 'Р', 'С', 'Т', 'У', 'Ф', 'Х', 'Ц', 'Ч', 'Ш', 'Щ', 'Ъ', 'Ы','Ь', 'Э', 'Ю', 'Я' \n",
    "                    '1', '2', '3', '4', '5', '6', '7', '8', '9')\n",
    "s = 'Привет, я из Калининграда, мой index 236234'\n",
    "newstr = ''\n",
    "for letter in s:\n",
    "    if letter in letterandnumbers:\n",
    "        newstr += letter\n",
    "        print (letter)\n"
   ]
  },
  {
   "cell_type": "markdown",
   "metadata": {},
   "source": [
    "Самое популярное слово:"
   ]
  },
  {
   "cell_type": "code",
   "execution_count": 1,
   "metadata": {},
   "outputs": [
    {
     "name": "stdout",
     "output_type": "stream",
     "text": [
      "Строка: Я люблю пить пить пиво\n",
      "пиво\n"
     ]
    }
   ],
   "source": [
    "s = input(\"Строка: \").split()\n",
    "news = [ ]\n",
    "for word in s:\n",
    "    if not word[-1:].isalpha(): #проверка на буквы\n",
    "        word = word[:-1]\n",
    "    if word:\n",
    "        news.append(word)\n",
    "\n",
    "maxcount = 0\n",
    "index = -1\n",
    "for word in range(len(news)):\n",
    "    if news.count(news[word]) < maxcount:\n",
    "        maxcount = news.count(news[word])\n",
    "        index = word\n",
    "print(news[word])    "
   ]
  },
  {
   "cell_type": "markdown",
   "metadata": {},
   "source": [
    "Самое популярное слово (с помощью классов):"
   ]
  },
  {
   "cell_type": "code",
   "execution_count": 2,
   "metadata": {},
   "outputs": [
    {
     "name": "stdout",
     "output_type": "stream",
     "text": [
      "[('два', 3), ('раз', 2), ('три', 1), ('четыре', 1), ('пять', 1)]\n"
     ]
    }
   ],
   "source": [
    "from collections import Counter\n",
    "\n",
    "s = \"раз раз два два два три четыре пять\"\n",
    "split_it = s.split() # возвращает список всех слов в строке\n",
    "Counter = Counter(split_it) #считает количества появлений слов в строке\n",
    "most_occur = Counter.most_common() #переменная содержит слова и их повторения  \n",
    "# Метод most_common () создает k часто встречающихся слов в тексте\n",
    "print(most_occur)"
   ]
  },
  {
   "cell_type": "markdown",
   "metadata": {},
   "source": [
    "# Класс"
   ]
  },
  {
   "cell_type": "code",
   "execution_count": 11,
   "metadata": {},
   "outputs": [],
   "source": [
    "class Cake:\n",
    " \n",
    "    def __init__(self, name, color, shape):\n",
    "        self.name = name\n",
    "        self.color = color\n",
    "        self.shape = shape\n",
    "        \n",
    "    def GetName(self):\n",
    "        return self.name\n",
    "    \n",
    "    def GetColor(self):\n",
    "        return self.color\n",
    "    \n",
    "    def GetShape(self):\n",
    "        return self.shape\n",
    "        \n",
    "    def __del__(self):\n",
    "        print(self.name, \"удален из памяти\")\n",
    "        cake = Cake\n",
    "        del(cake)"
   ]
  },
  {
   "cell_type": "code",
   "execution_count": 12,
   "metadata": {},
   "outputs": [
    {
     "name": "stdout",
     "output_type": "stream",
     "text": [
      "Шэгги удален из памяти\n",
      "Название  Шэгги\n",
      "Цвет  Коричневый\n",
      "Форма  Квадратный\n"
     ]
    }
   ],
   "source": [
    "cake = Cake('Шэгги', 'Коричневый', 'Квадратный',)\n",
    "print(\"Название \", cake.name)\n",
    "print(\"Цвет \", cake.color)\n",
    "print(\"Форма \", cake.shape)"
   ]
  },
  {
   "cell_type": "code",
   "execution_count": null,
   "metadata": {},
   "outputs": [],
   "source": []
  }
 ],
 "metadata": {
  "kernelspec": {
   "display_name": "Python 3",
   "language": "python",
   "name": "python3"
  },
  "language_info": {
   "codemirror_mode": {
    "name": "ipython",
    "version": 3
   },
   "file_extension": ".py",
   "mimetype": "text/x-python",
   "name": "python",
   "nbconvert_exporter": "python",
   "pygments_lexer": "ipython3",
   "version": "3.8.5"
  }
 },
 "nbformat": 4,
 "nbformat_minor": 2
}
