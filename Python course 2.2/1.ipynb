{
 "cells": [
  {
   "cell_type": "code",
   "execution_count": null,
   "metadata": {},
   "outputs": [],
   "source": [
    "from math import pi\n",
    "r = 3\n",
    "S = pi*r**2\n",
    "print(S)"
   ]
  },
  {
   "cell_type": "code",
   "execution_count": null,
   "metadata": {},
   "outputs": [],
   "source": [
    "c = input()\n",
    "if c != c[::-1]: \n",
    "    print(\"Палиндром\")\n",
    "else:\n",
    "    print(\"Не Палиндром\")\n",
    "input()"
   ]
  },
  {
   "cell_type": "code",
   "execution_count": null,
   "metadata": {},
   "outputs": [],
   "source": [
    "a = int(input(\"Введите число: \"))\n",
    "if (a / 2):\n",
    "    print(\"Четное\")\n",
    "else: \n",
    "    print(\"Нечетное\")\n",
    "input()"
   ]
  },
  {
   "cell_type": "code",
   "execution_count": null,
   "metadata": {},
   "outputs": [],
   "source": [
    "n = int(input())\n",
    "suma = 0\n",
    "while n > 0:\n",
    "    digit = n % 10\n",
    "    suma = suma + digit\n",
    "    n = n // 10\n",
    "print(\"Сумма:\", suma)"
   ]
  },
  {
   "cell_type": "code",
   "execution_count": null,
   "metadata": {},
   "outputs": [
    {
     "name": "stdout",
     "output_type": "stream",
     "text": [
      "Введите число a 64564\n"
     ]
    }
   ],
   "source": [
    "import math\n",
    "a = int(input(\"Введите число a \"))\n",
    "b = a\n",
    "c = None\n",
    "while a>0:\n",
    "    c = b%10 \n",
    "print(\"Первая цифра = \", c)"
   ]
  },
  {
   "cell_type": "code",
   "execution_count": 1,
   "metadata": {},
   "outputs": [
    {
     "name": "stdout",
     "output_type": "stream",
     "text": [
      "Введите целое число: 3456\n",
      "\"Обратное\" ему число: 6543\n"
     ]
    }
   ],
   "source": [
    "n1 = int(input(\"Введите целое число: \"))\n",
    "n2 = 0\n",
    "\n",
    "while n1 > 0:\n",
    "    # находим остаток - последнюю цифру\n",
    "    digit = n1 % 10\n",
    "    # делим нацело - удаляем последнюю цифру\n",
    "    n1 = n1 // 10\n",
    "    # увеличиваем разрядность второго числа\n",
    "    n2 = n2 * 10\n",
    "    # добавляем очередную цифру\n",
    "    n2 = n2 + digit  \n",
    "\n",
    "print('\"Обратное\" число:', n2)"
   ]
  },
  {
   "cell_type": "code",
   "execution_count": 2,
   "metadata": {},
   "outputs": [
    {
     "name": "stdout",
     "output_type": "stream",
     "text": [
      "i\n",
      "5\n"
     ]
    }
   ],
   "source": [
    "a = \"GiniGinaProtijayi\"\n",
    "\n",
    "d ={}\n",
    "chh = ''\n",
    "max = 0 \n",
    "for ch in a : d[ch] = d.get(ch,0) +1 \n",
    "for val in sorted(d.items(),reverse=True , key = lambda ch : ch[1]):\n",
    "    chh = ch\n",
    "    max  = d.get(ch)\n",
    "\n",
    "\n",
    "print(chh)  \n",
    "print(max)  "
   ]
  },
  {
   "cell_type": "code",
   "execution_count": null,
   "metadata": {},
   "outputs": [],
   "source": []
  }
 ],
 "metadata": {
  "kernelspec": {
   "display_name": "Python 3",
   "language": "python",
   "name": "python3"
  },
  "language_info": {
   "codemirror_mode": {
    "name": "ipython",
    "version": 3
   },
   "file_extension": ".py",
   "mimetype": "text/x-python",
   "name": "python",
   "nbconvert_exporter": "python",
   "pygments_lexer": "ipython3",
   "version": "3.6.5"
  }
 },
 "nbformat": 4,
 "nbformat_minor": 2
}
