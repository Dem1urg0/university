{
 "cells": [
  {
   "cell_type": "code",
   "execution_count": null,
   "metadata": {},
   "outputs": [
    {
     "name": "stdout",
     "output_type": "stream",
     "text": [
      "['/start', 'привет', '/start']\n",
      "{'id': 1790495753, 'is_bot': True, 'first_name': 'kazmenko', 'username': 'kazmenkoIvan_bot', 'last_name': None, 'language_code': None, 'can_join_groups': True, 'can_read_all_group_messages': False, 'supports_inline_queries': False}\n",
      "I1Kazma None\n",
      "I1Kazma None\n"
     ]
    }
   ],
   "source": [
    "import telebot\n",
    "import os\n",
    "bot = telebot.TeleBot('1790495753:AAGFUfsAbzzrP0kd6E211_3jAmxX3Y1SzT8')\n",
    "keyboard1 = telebot.types.ReplyKeyboardMarkup(resize_keyboard=True)\n",
    "keyboard1.row('привет','Как оно?', 'покеда','стикер')\n",
    "\n",
    "\n",
    "@bot.message_handler(commands=['start'])\n",
    "def start_message(message):\n",
    "    bot.send_message(message.chat.id, 'Добро пожаловать в страну машин! /start', reply_markup=keyboard1)\n",
    "    \n",
    "    \n",
    "updates = bot.get_updates()\n",
    "print([u.message.text for u in updates])\n",
    "\n",
    "chat_id = bot.get_updates()[-1].message.chat.id\n",
    "\n",
    "#bot.send_photo(chat_id=chat_id, photo=open('C:\\Users\\Home\\Desktop\\IMG_1801.JPG', 'rb'))\n",
    "\n",
    "@bot.message_handler(content_types=['text'])\n",
    "def send_text(message):\n",
    "    greeting = {'Привет', 'привет','здарова','хей','ку'}\n",
    "    goodbye = {'Пока','сп','бб','гн','сн'}\n",
    "    \n",
    "    if message.text.lower() == 'привет':\n",
    "        bot.send_message(message.chat.id, 'Привет')\n",
    "        print(message.from_user.first_name, message.from_user.last_name)\n",
    "    elif message.text.lower() in greeting:\n",
    "        bot.send_message(message.chat.id, 'Привет')\n",
    "        print(message.from_user.first_name, message.from_user.last_name)\n",
    "    elif message.text.lower() == 'как у тебя дела?':\n",
    "        bot.send_message(message.chat.id, 'Шик!')\n",
    "    elif message.text.lower() in goodbye:\n",
    "        bot.send_message(message.chat.id, 'До завтра')\n",
    "    elif message.text.lower() == 'покеда':\n",
    "        bot.send_message(message.chat.id, 'До завтра')\n",
    "    elif message.text.lower() == 'стикер':\n",
    "        bot.send_sticker(message.chat.id, 'CAACAgIAAxkBAAIMQ2CRLZrwPeW_z8eOpxzHwgK9C47NAAIbAANaDDcVw5bPHbX7qrAfBA')\n",
    "    elif message.text.lower() == 'хочу блокнот':\n",
    "        os.system('notepad')\n",
    "    else:\n",
    "        bot.send_message(message.chat.id, 'Пока не распознаю')\n",
    "        \n",
    "print(bot.get_me())\n",
    "\n",
    "\n",
    "@bot.message_handler(content_types=['sticker'])\n",
    "def sticker_id(message):\n",
    "    print(message)\n",
    "    \n",
    "    \n",
    "bot.polling()"
   ]
  },
  {
   "cell_type": "code",
   "execution_count": null,
   "metadata": {},
   "outputs": [],
   "source": []
  },
  {
   "cell_type": "code",
   "execution_count": null,
   "metadata": {},
   "outputs": [],
   "source": []
  }
 ],
 "metadata": {
  "kernelspec": {
   "display_name": "Python 3",
   "language": "python",
   "name": "python3"
  },
  "language_info": {
   "codemirror_mode": {
    "name": "ipython",
    "version": 3
   },
   "file_extension": ".py",
   "mimetype": "text/x-python",
   "name": "python",
   "nbconvert_exporter": "python",
   "pygments_lexer": "ipython3",
   "version": "3.8.5"
  }
 },
 "nbformat": 4,
 "nbformat_minor": 2
}
