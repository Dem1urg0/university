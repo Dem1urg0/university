{
 "cells": [
  {
   "cell_type": "code",
   "execution_count": null,
   "metadata": {},
   "outputs": [
    {
     "name": "stderr",
     "output_type": "stream",
     "text": [
      "127.0.0.1 - - [12/Jun/2021 12:26:18] \"GET / HTTP/1.1\" 200 -\n",
      "127.0.0.1 - - [12/Jun/2021 12:26:18] \"GET /favicon.ico HTTP/1.1\" 200 -\n"
     ]
    }
   ],
   "source": [
    "from http.server import BaseHTTPRequestHandler, HTTPServer\n",
    "\n",
    "class myHandler(BaseHTTPRequestHandler):\n",
    "    def do_GET(self):\n",
    "        self.send_response(200)\n",
    "        self.send_header('Content-type', 'text/html')\n",
    "        self.end_headers()\n",
    "        \n",
    "        path = self.path\n",
    "        if path == \"/\":\n",
    "            path = \"/index\"\n",
    "            \n",
    "        try:\n",
    "            file = open(\"C://Users/karma/Desktop/KazmaPy/www/pages\" + path + \".html.txt\", 'r')\n",
    "        except FileNotFoundError:\n",
    "            file = open(\"C://Users/karma/Desktop/KazmaPy/www/pages/404.html.txt\", 'r')\n",
    "            \n",
    "        message = file.read()\n",
    "        file.close()\n",
    "        \n",
    "        self.wfile.write(bytes(message, \"utf8\"))\n",
    "        return\n",
    "server = HTTPServer(('127.0.0.1', 81), myHandler)\n",
    "server.serve_forever()"
   ]
  },
  {
   "cell_type": "code",
   "execution_count": null,
   "metadata": {},
   "outputs": [],
   "source": []
  }
 ],
 "metadata": {
  "kernelspec": {
   "display_name": "Python 3",
   "language": "python",
   "name": "python3"
  },
  "language_info": {
   "codemirror_mode": {
    "name": "ipython",
    "version": 3
   },
   "file_extension": ".py",
   "mimetype": "text/x-python",
   "name": "python",
   "nbconvert_exporter": "python",
   "pygments_lexer": "ipython3",
   "version": "3.6.5"
  }
 },
 "nbformat": 4,
 "nbformat_minor": 2
}
